{
 "cells": [
  {
   "cell_type": "code",
   "execution_count": null,
   "metadata": {},
   "outputs": [],
   "source": [
    "# !pip install PyGithub"
   ]
  },
  {
   "cell_type": "code",
   "execution_count": 2,
   "metadata": {},
   "outputs": [],
   "source": [
    "from github import Github"
   ]
  },
  {
   "cell_type": "code",
   "execution_count": 1,
   "metadata": {},
   "outputs": [],
   "source": [
    "token = TOKEN"
   ]
  },
  {
   "cell_type": "code",
   "execution_count": 3,
   "metadata": {},
   "outputs": [],
   "source": [
    "g = Github(token)"
   ]
  },
  {
   "cell_type": "code",
   "execution_count": 4,
   "metadata": {},
   "outputs": [
    {
     "name": "stdout",
     "output_type": "stream",
     "text": [
      "AISCIENCES/AISCIENCES-Python-Scikit-Learn-\n",
      "AISCIENCES/Book_frequentist_and_bayesian_statistics\n",
      "AISCIENCES/course-bi\n",
      "AISCIENCES/course-data-scraping-from-beginner-to-professional\n",
      "AISCIENCES/course-master-big-data-with-pyspark-and-aws\n",
      "AISCIENCES/course-mongodb\n",
      "AISCIENCES/course-nlp\n",
      "AISCIENCES/Course-RL2\n",
      "AISCIENCES/course-scala-for-beginner-to-pro\n",
      "AISCIENCES/fundamentals-of-computer-vision-theory-projects-in-python\n",
      "AISCIENCES/fundamentals-of-reinforcement-learning\n",
      "AISCIENCES/Hands-on-Python\n",
      "AISCIENCES/Hands-on-Python-for-Data-Science-and-Machine-Learning\n",
      "AISCIENCES/Machine-Learning-and-Data-Science-Projects-with-Python\n",
      "AISCIENCES/mastering_recurrent_neural_networks\n",
      "AISCIENCES/NumPy-and-Pandas-Specialization\n",
      "AISCIENCES/PyGithub_Testing\n",
      "AISCIENCES/Ytube-activation-functions-and-backpropagation\n",
      "AISCIENCES/Ytube-aes\n",
      "AISCIENCES/Ytube-ai-gaming\n",
      "AISCIENCES/Ytube-ai-in-autonomous-vehicles\n",
      "AISCIENCES/Ytube-ai-in-banking\n",
      "AISCIENCES/Ytube-ai-in-cancer\n",
      "AISCIENCES/Ytube-ai-in-ecommerce\n",
      "AISCIENCES/Ytube-ai-in-healthcare\n",
      "AISCIENCES/Ytube-ai-in-iot\n",
      "AISCIENCES/Ytube-ai-in-stock\n",
      "AISCIENCES/Ytube-ai-in-telecom\n",
      "AISCIENCES/Ytube-amf\n",
      "AISCIENCES/Ytube-aop\n",
      "AISCIENCES/Ytube-auto-login-session\n",
      "AISCIENCES/Ytube-awm\n",
      "AISCIENCES/YTube-Bagging-Boosting-Stacking\n",
      "AISCIENCES/Ytube-bayes-rule\n",
      "AISCIENCES/Ytube-bcr\n",
      "AISCIENCES/Ytube-bd-remover-gesture\n",
      "AISCIENCES/Ytube-bg-remover\n",
      "AISCIENCES/Ytube-binary-tree\n",
      "AISCIENCES/Ytube-br\n",
      "AISCIENCES/Ytube-bt\n",
      "AISCIENCES/Ytube-built-in-functions\n",
      "AISCIENCES/Ytube-ccv\n",
      "AISCIENCES/Ytube-cdd\n",
      "AISCIENCES/Ytube-cef\n",
      "AISCIENCES/Ytube-cgp\n",
      "AISCIENCES/Ytube-charbox\n",
      "AISCIENCES/Ytube-coc\n",
      "AISCIENCES/Ytube-colab-gui-app\n",
      "AISCIENCES/Ytube-color-sep\n",
      "AISCIENCES/Ytube-cryp\n",
      "AISCIENCES/Ytube-cts\n",
      "AISCIENCES/Ytube-dae\n",
      "AISCIENCES/Ytube-datascience-datasnooping-qlearning\n",
      "AISCIENCES/Ytube-datetime\n",
      "AISCIENCES/Ytube-dbi\n",
      "AISCIENCES/Ytube-deepfakes-chatbot\n",
      "AISCIENCES/Ytube-detectron2\n",
      "AISCIENCES/Ytube-dictionary\n",
      "AISCIENCES/Ytube-dinosaur-game\n",
      "AISCIENCES/Ytube-drag-drop\n",
      "AISCIENCES/Ytube-eva\n",
      "AISCIENCES/Ytube-face-detection\n",
      "AISCIENCES/Ytube-facial\n",
      "AISCIENCES/Ytube-fbwe\n",
      "AISCIENCES/Ytube-fdc\n",
      "AISCIENCES/Ytube-feature-binarization\n",
      "AISCIENCES/Ytube-feature-encoding\n",
      "AISCIENCES/Ytube-feature-scaling\n",
      "AISCIENCES/Ytube-finger-counter\n",
      "AISCIENCES/Ytube-fl\n",
      "AISCIENCES/Ytube-fo\n",
      "AISCIENCES/Ytube-for-loop\n",
      "AISCIENCES/Ytube-gbm\n",
      "AISCIENCES/Ytube-gdf\n",
      "AISCIENCES/Ytube-genism\n",
      "AISCIENCES/Ytube-gesture-painting\n",
      "AISCIENCES/Ytube-gma\n",
      "AISCIENCES/Ytube-gmc\n",
      "AISCIENCES/Ytube-gnn\n",
      "AISCIENCES/Ytube-gpf\n",
      "AISCIENCES/Ytube-gradient-boosting\n",
      "AISCIENCES/Ytube-groupby-pyspark\n",
      "AISCIENCES/Ytube-gtb\n",
      "AISCIENCES/Ytube-gtg\n",
      "AISCIENCES/Ytube-hpp\n",
      "AISCIENCES/Ytube-if-else\n",
      "AISCIENCES/Ytube-kmeans\n",
      "AISCIENCES/Ytube-kmeans-as-dr\n",
      "AISCIENCES/Ytube-knn\n",
      "AISCIENCES/Ytube-lgr\n",
      "AISCIENCES/Ytube-logistic-regression\n",
      "AISCIENCES/Ytube-lr\n",
      "AISCIENCES/Ytube-map-vs-flatmap\n",
      "AISCIENCES/Ytube-mir\n",
      "AISCIENCES/Ytube-missing-values\n",
      "AISCIENCES/Ytube-mnist\n",
      "AISCIENCES/Ytube-mul-drag-drop\n",
      "AISCIENCES/Ytube-oda\n",
      "AISCIENCES/Ytube-ogc\n",
      "AISCIENCES/Ytube-opened-finger\n",
      "AISCIENCES/Ytube-outlier-detection\n",
      "AISCIENCES/Ytube-outlier-removal\n",
      "AISCIENCES/YTube-overfitting---underfitting\n",
      "AISCIENCES/Ytube-pag\n",
      "AISCIENCES/Ytube-pcp\n",
      "AISCIENCES/Ytube-pg\n",
      "AISCIENCES/Ytube-poetwriter\n",
      "AISCIENCES/Ytube-polynomial-regression\n",
      "AISCIENCES/Ytube-pp\n",
      "AISCIENCES/Ytube-pta\n",
      "AISCIENCES/Ytube-ptt\n",
      "AISCIENCES/Ytube-pwe\n",
      "AISCIENCES/Ytube-pyspark-connet-db\n",
      "AISCIENCES/Ytube-pyspark-partitionby\n",
      "AISCIENCES/Ytube-pyspark-word-count\n",
      "AISCIENCES/Ytube-python-list\n",
      "AISCIENCES/Ytube-python-operators\n",
      "AISCIENCES/Ytube-python-variables\n",
      "AISCIENCES/Ytube-qedm\n",
      "AISCIENCES/Ytube-rec-sys\n",
      "AISCIENCES/Ytube-renaming-and-type-casting\n",
      "AISCIENCES/Ytube-rep-counter\n",
      "AISCIENCES/Ytube-rf\n",
      "AISCIENCES/Ytube-rs2\n",
      "AISCIENCES/Ytube-sa\n",
      "AISCIENCES/Ytube-sc\n",
      "AISCIENCES/Ytube-shallow-deep-copy\n",
      "AISCIENCES/Ytube-skl\n",
      "AISCIENCES/Ytube-smp\n",
      "AISCIENCES/Ytube-soyc\n",
      "AISCIENCES/Ytube-spacy\n",
      "AISCIENCES/Ytube-spg\n",
      "AISCIENCES/Ytube-srp\n",
      "AISCIENCES/Ytube-string\n",
      "AISCIENCES/Ytube-string-slicing\n",
      "AISCIENCES/Ytube-svm\n",
      "AISCIENCES/Ytube-tfp\n",
      "AISCIENCES/Ytube-tsc\n",
      "AISCIENCES/Ytube-tthw\n",
      "AISCIENCES/Ytube-tuples\n",
      "AISCIENCES/Ytube-vgg19\n",
      "AISCIENCES/Ytube-volume-control-through-hand-gesture\n",
      "AISCIENCES/Ytube-wa\n",
      "AISCIENCES/Ytube-wa-v\n",
      "AISCIENCES/Ytube-while-loop\n",
      "AISCIENCES/Ytube-xgboost\n",
      "AISCIENCES/Ytube-ygc\n",
      "AISPUBLISHING/3d_interactive_visualizations_for_data_sciences\n",
      "AISPUBLISHING/AISCIENCES-PyGithub_Testing\n",
      "AISPUBLISHING/Book-data-Preprocessing-Python\n",
      "AISPUBLISHING/Book-Statistics-Beginners-Python\n",
      "AISPUBLISHING/book_data_science_crash_course\n",
      "AISPUBLISHING/Book_deep_Learning_Tensorflow\n",
      "AISPUBLISHING/Book_regression_Python\n",
      "AISPUBLISHING/Course-Mastering-Stat-proba\n",
      "AISPUBLISHING/Course-Python-Data-Science\n",
      "AISPUBLISHING/course-uml\n",
      "AISPUBLISHING/Data-Visualization\n",
      "AISPUBLISHING/deep-learning-for-beginners\n",
      "AISPUBLISHING/deep_learning_with_apache_mxnet\n",
      "AISPUBLISHING/dl-Fundamentals-beginners\n",
      "AISPUBLISHING/dl-Python-beginners\n",
      "AISPUBLISHING/dlf-python\n",
      "AISPUBLISHING/dnn-python-from-scratch\n",
      "AISPUBLISHING/dsfs-python\n",
      "AISPUBLISHING/dsmlb-Python\n",
      "AISPUBLISHING/dv-Python\n",
      "AISPUBLISHING/fundamentals_of_reinforcement_learning\n",
      "AISPUBLISHING/Hands-On-Natural-Language-Processing-wih-Python\n",
      "AISPUBLISHING/hello-world\n",
      "AISPUBLISHING/introduction_to_convolutional_neural_networks\n",
      "AISPUBLISHING/introduction_to_machine_learning_for_beginner\n",
      "AISPUBLISHING/Learning-Python-Machine-Learning-from-scratch\n",
      "AISPUBLISHING/lr-from-scratch-advanced\n",
      "AISPUBLISHING/mastering-python-for-data-science\n",
      "AISPUBLISHING/mastering_convolutional_neural_networks\n",
      "AISPUBLISHING/mastering_machine_learning_and_data_science_fundamentals_with_-handson_projects_in_python\n",
      "AISPUBLISHING/mastering_python_for_data_understanding_and_visualization_youtube\n",
      "AISPUBLISHING/mastering_python_from_scratch_-for_data_-science_-_data_-analysis\n",
      "AISPUBLISHING/multiple-object-tracking-in-videos-using-opencv-in-python\n",
      "AISPUBLISHING/pdsmlb\n",
      "AISPUBLISHING/PyGithub-Testing\n",
      "AISPUBLISHING/python-crash-cda\n",
      "AISPUBLISHING/Python-data-analysis\n",
      "AISPUBLISHING/Python-Data-Understanding-Data-Visualization\n",
      "AISPUBLISHING/Python-NumPy\n",
      "AISPUBLISHING/python_mlbc\n",
      "AISPUBLISHING/recurrent-neural-networks\n",
      "AISPUBLISHING/RF-Python\n",
      "AISPUBLISHING/svm-python-from-scratch\n",
      "AISPUBLISHING/tensorflow_tutorial_for_beginners\n",
      "AISPUBLISHING/test\n",
      "AISPUBLISHING/test1\n",
      "AISPUBLISHING/udemy-react\n",
      "AISPUBLISHING/Ytube-ai-in-education\n",
      "AISPUBLISHING/YTube-computer-vision-and-image-classification\n",
      "AISPUBLISHING/YTube-deep-learning-with-pytorch\n",
      "AISPUBLISHING/Ytube-eda\n",
      "AISPUBLISHING/YTube-feature-engineering-dimensionality-reduction\n",
      "AISPUBLISHING/Ytube-gensim\n",
      "AISPUBLISHING/Ytube-list-comprehension\n",
      "AISPUBLISHING/YTube-LSTM-YOLO-SMP\n",
      "AISPUBLISHING/YTube-natural-language-processing\n",
      "AISPUBLISHING/ytube-singular-value-decomposition\n",
      "AISPUBLISHING/YTube-vectorization\n",
      "AISPUBLISHING/Ytube-web-crawling\n",
      "AISPUBLISHING/Ytube_Mastering_Statistics_probability_Part_1\n",
      "AISPUBLISHING/YTube_video_editing_in_python_using_MoviePy\n"
     ]
    }
   ],
   "source": [
    "for repo in g.get_user().get_repos():\n",
    "    print(repo.full_name)"
   ]
  },
  {
   "cell_type": "code",
   "execution_count": 5,
   "metadata": {},
   "outputs": [],
   "source": [
    "repo = g.get_repo(\"AISCIENCES/fundamentals-of-computer-vision-theory-projects-in-python\")"
   ]
  },
  {
   "cell_type": "code",
   "execution_count": 6,
   "metadata": {},
   "outputs": [
    {
     "data": {
      "text/plain": [
       "Repository(full_name=\"AISCIENCES/fundamentals-of-computer-vision-theory-projects-in-python\")"
      ]
     },
     "execution_count": 6,
     "metadata": {},
     "output_type": "execute_result"
    }
   ],
   "source": [
    "repo"
   ]
  },
  {
   "cell_type": "code",
   "execution_count": 7,
   "metadata": {},
   "outputs": [
    {
     "name": "stdout",
     "output_type": "stream",
     "text": [
      "ContentFile(path=\"Code and Data\")\n",
      "ContentFile(path=\"Slides\")\n"
     ]
    }
   ],
   "source": [
    "content = repo.get_contents(\"\")\n",
    "for content_file in content:\n",
    "    print(content_file)"
   ]
  },
  {
   "cell_type": "code",
   "execution_count": 8,
   "metadata": {},
   "outputs": [],
   "source": [
    "repo = g.get_repo(\"AISPUBLISHING/testing\")"
   ]
  },
  {
   "cell_type": "code",
   "execution_count": 9,
   "metadata": {},
   "outputs": [
    {
     "data": {
      "text/plain": [
       "{'content': ContentFile(path=\"test1.txt\"),\n",
       " 'commit': Commit(sha=\"20378c4b7ac2251b5eeec9c3962f355f749eb9b8\")}"
      ]
     },
     "execution_count": 9,
     "metadata": {},
     "output_type": "execute_result"
    }
   ],
   "source": [
    "repo.create_file(\"test1.txt\", \"commit\", \"This is a testing file\")"
   ]
  },
  {
   "cell_type": "code",
   "execution_count": 11,
   "metadata": {},
   "outputs": [
    {
     "data": {
      "text/plain": [
       "'test1.txt'"
      ]
     },
     "execution_count": 11,
     "metadata": {},
     "output_type": "execute_result"
    }
   ],
   "source": [
    "content = repo.get_contents(\"test1.txt\")\n",
    "content.path"
   ]
  },
  {
   "cell_type": "code",
   "execution_count": 12,
   "metadata": {},
   "outputs": [
    {
     "data": {
      "text/plain": [
       "{'commit': Commit(sha=\"beb528bb4700ae21702ee63c50d855f3a49a3e1c\"),\n",
       " 'content': NotSet}"
      ]
     },
     "execution_count": 12,
     "metadata": {},
     "output_type": "execute_result"
    }
   ],
   "source": [
    "repo.delete_file(content.path, \"remove test\", content.sha, branch=\"main\")"
   ]
  },
  {
   "cell_type": "code",
   "execution_count": null,
   "metadata": {},
   "outputs": [],
   "source": []
  }
 ],
 "metadata": {
  "kernelspec": {
   "display_name": "Python 3",
   "language": "python",
   "name": "python3"
  },
  "language_info": {
   "codemirror_mode": {
    "name": "ipython",
    "version": 3
   },
   "file_extension": ".py",
   "mimetype": "text/x-python",
   "name": "python",
   "nbconvert_exporter": "python",
   "pygments_lexer": "ipython3",
   "version": "3.8.3"
  }
 },
 "nbformat": 4,
 "nbformat_minor": 4
}
